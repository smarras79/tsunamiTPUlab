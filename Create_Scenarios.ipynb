{
 "cells": [
  {
   "cell_type": "code",
   "execution_count": 1,
   "id": "2872f8d3",
   "metadata": {},
   "outputs": [],
   "source": [
    "from osgeo import gdal,ogr\n",
    "gdal.UseExceptions()\n",
    "import numpy as np\n",
    "import matplotlib.pyplot as plt"
   ]
  },
  {
   "cell_type": "markdown",
   "id": "ef874169",
   "metadata": {},
   "source": [
    "# Parabolic Bowl Topography"
   ]
  },
  {
   "cell_type": "code",
   "execution_count": null,
   "id": "4cc8a76b",
   "metadata": {},
   "outputs": [],
   "source": [
    "X_LENGTH = 40\n",
    "MAX_DEPTH = -1000\n",
    "Y_LENGTH = 11\n",
    "X_RES = 0.1\n",
    "Y_RES = 0.1\n",
    "H_0 = 5\n",
    "a = 10\n",
    "\n",
    "x_coord = np.linspace(0, X_LENGTH,  int(X_LENGTH / X_RES)+1)\n",
    "y_coord = np.linspace(0, Y_LENGTH,  int(Y_LENGTH / Y_RES)+1)\n",
    "xx, yy = np.meshgrid(x_coord,y_coord)\n",
    "height = (H_0) *( (1/a) * (1/a) * np.square(xx - (X_LENGTH / 2)) - 1) \n",
    "plt.imshow(height)\n",
    "plt.colorbar()"
   ]
  },
  {
   "cell_type": "code",
   "execution_count": null,
   "id": "e1b2e0de",
   "metadata": {},
   "outputs": [],
   "source": [
    "#Output to geospatial File\n",
    "FILENAME = 'parabola.tif'\n",
    "driver = gdal.GetDriverByName('GTiff')\n",
    "GDT_dtype = gdal.GDT_Float32\n",
    "outRaster = driver.Create(FILENAME, int(X_LENGTH / X_RES)+1,int(Y_LENGTH / Y_RES)+1, 1, GDT_dtype)\n",
    "outRaster.SetGeoTransform((0, X_RES, 0, 0, 0, Y_RES))\n",
    "outband = outRaster.GetRasterBand(1)\n",
    "outband.WriteArray(height)\n",
    "outband.FlushCache()"
   ]
  },
  {
   "cell_type": "markdown",
   "id": "adeea355",
   "metadata": {},
   "source": [
    "# Tsunami ISEC Beach Topography"
   ]
  },
  {
   "cell_type": "code",
   "execution_count": null,
   "id": "91773d0b",
   "metadata": {},
   "outputs": [],
   "source": [
    "# Long Beach\n",
    "X_LENGTH = 50500\n",
    "Y_LENGTH = 20\n",
    "X_RES = 1\n",
    "Y_RES = 1\n",
    "SLOPE = 0.1\n",
    "FILENAME = 'isec-slope.tif'\n",
    "\n",
    "base = np.linspace(0,X_LENGTH*SLOPE, int(X_LENGTH / X_RES)+1)\n",
    "base = np.vstack(base)\n",
    "base = np.repeat(base,int(Y_LENGTH/Y_RES)+1,axis=1).transpose()\n",
    "driver = gdal.GetDriverByName('GTiff')\n",
    "GDT_dtype = gdal.GDT_Float32\n",
    "outRaster = driver.Create(FILENAME, int(X_LENGTH / X_RES)+1,int(Y_LENGTH / Y_RES)+1, 1, GDT_dtype)\n",
    "outRaster.SetGeoTransform((0, X_RES, 0, 0, 0, Y_RES))\n",
    "outband = outRaster.GetRasterBand(1)\n",
    "outband.WriteArray(base)\n",
    "outband.FlushCache()"
   ]
  },
  {
   "cell_type": "markdown",
   "id": "07fcb722",
   "metadata": {},
   "source": [
    "## Frictioned Beach Topography"
   ]
  },
  {
   "cell_type": "code",
   "execution_count": 2,
   "id": "46f14c49",
   "metadata": {},
   "outputs": [],
   "source": [
    "# Long Beach\n",
    "X_LENGTH = 1000\n",
    "Y_LENGTH = 200\n",
    "X_RES = 1\n",
    "Y_RES = 1\n",
    "SLOPE = 0.05\n",
    "FILENAME = 'frictioned_benchmark.tif'\n",
    "\n",
    "base = np.linspace(0,X_LENGTH*SLOPE, int(X_LENGTH / X_RES)+1)\n",
    "base = np.vstack(base)\n",
    "base = np.repeat(base,int(Y_LENGTH/Y_RES)+1,axis=1).transpose()\n",
    "driver = gdal.GetDriverByName('GTiff')\n",
    "GDT_dtype = gdal.GDT_Float32\n",
    "outRaster = driver.Create(FILENAME, int(X_LENGTH / X_RES)+1,int(Y_LENGTH / Y_RES)+1, 1, GDT_dtype)\n",
    "outRaster.SetGeoTransform((0, X_RES, 0, 0, 0, Y_RES))\n",
    "outband = outRaster.GetRasterBand(1)\n",
    "outband.WriteArray(base)\n",
    "outband.FlushCache()"
   ]
  },
  {
   "cell_type": "markdown",
   "id": "592024ab",
   "metadata": {},
   "source": [
    "# Hill Mitigation Topography"
   ]
  },
  {
   "cell_type": "code",
   "execution_count": null,
   "id": "b89bae62",
   "metadata": {},
   "outputs": [],
   "source": [
    "# Underlying Beach\n",
    "X_LENGTH = 12000\n",
    "MAX_DEPTH = -1000\n",
    "Y_LENGTH = 220\n",
    "X_RES = 1\n",
    "Y_RES = 1\n",
    "SLOPE = 1/50\n",
    "\n",
    "# Hill Configuration\n",
    "HILL_H = 15\n",
    "FIRST_HILL_CENTER_X = 4000\n",
    "FIRST_HILL_CENTER_Y = 50\n",
    "HILL_RADIUS = 30\n",
    "HILL_COUNT_X = 1\n",
    "HILL_COUNT_Y = 2\n",
    "SPACING_X = 70\n",
    "SPACING_Y = 120\n",
    "base = np.linspace(-X_LENGTH*SLOPE/2,X_LENGTH*SLOPE/2, int(X_LENGTH / X_RES)+1)\n",
    "base[base<0] = 0\n",
    "base = np.vstack(base)\n",
    "base = np.repeat(base,int(Y_LENGTH/Y_RES)+1,axis=1).transpose()\n",
    "x_coord = np.linspace(0, X_LENGTH,  int(X_LENGTH / X_RES)+1)\n",
    "y_coord = np.linspace(0, Y_LENGTH,  int(Y_LENGTH / Y_RES)+1)\n",
    "xx, yy = np.meshgrid(x_coord,y_coord)\n",
    "l = np.repeat(xx[:, :, np.newaxis], HILL_COUNT_X*HILL_COUNT_Y, axis=2)\n",
    "for i in range(HILL_COUNT_X):\n",
    "    for j in range(HILL_COUNT_Y):\n",
    "        l[:,:,i*HILL_COUNT_X +j] = np.sqrt(np.square(xx - (FIRST_HILL_CENTER_X + i*SPACING_X))+np.square(yy - (FIRST_HILL_CENTER_Y + j*SPACING_Y)))\n",
    "l = np.min(l, axis = 2)\n",
    "ellipse = lambda x: x*HILL_H/HILL_RADIUS*np.tan(np.arccos(x/HILL_RADIUS))\n",
    "cone = lambda x: HILL_H/HILL_RADIUS*(HILL_RADIUS-x)\n",
    "# choose either conical or ellipsoidal hills\n",
    "hills = np.piecewise(l, [l > HILL_RADIUS, l<=HILL_RADIUS], [0, ellipse])\n",
    "result = base + hills\n",
    "plt.imshow(result)\n",
    "plt.colorbar()"
   ]
  },
  {
   "cell_type": "code",
   "execution_count": null,
   "id": "9651a6f6",
   "metadata": {},
   "outputs": [],
   "source": [
    "#Output to geospatial File\n",
    "FILENAME = 'double-hill-configuration.tif'\n",
    "driver = gdal.GetDriverByName('GTiff')\n",
    "GDT_dtype = gdal.GDT_Float32\n",
    "outRaster = driver.Create(FILENAME, int(X_LENGTH / X_RES)+1,int(Y_LENGTH / Y_RES)+1, 1, GDT_dtype)\n",
    "outRaster.SetGeoTransform((0, X_RES, 0, 0, 0, Y_RES))\n",
    "outband = outRaster.GetRasterBand(1)\n",
    "outband.WriteArray(result)\n",
    "outband.FlushCache()"
   ]
  }
 ],
 "metadata": {
  "kernelspec": {
   "display_name": "Python 3",
   "language": "python",
   "name": "python3"
  },
  "language_info": {
   "codemirror_mode": {
    "name": "ipython",
    "version": 3
   },
   "file_extension": ".py",
   "mimetype": "text/x-python",
   "name": "python",
   "nbconvert_exporter": "python",
   "pygments_lexer": "ipython3",
   "version": "3.7.10"
  }
 },
 "nbformat": 4,
 "nbformat_minor": 5
}
